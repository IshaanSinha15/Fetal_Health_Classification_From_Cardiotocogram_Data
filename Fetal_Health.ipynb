{
  "cells": [
    {
      "cell_type": "code",
      "execution_count": null,
      "metadata": {
        "colab": {
          "base_uri": "https://localhost:8080/"
        },
        "id": "VkuL4DdooMbk",
        "outputId": "28fe0886-9639-47a8-a481-000d5fb4ace6"
      },
      "outputs": [],
      "source": [
        "\n",
        "# --- 1.1 IMPORTS ---\n",
        "import pandas as pd\n",
        "import numpy as np\n",
        "import warnings\n",
        "from ucimlrepo import fetch_ucirepo\n",
        "import matplotlib.pyplot as plt\n",
        "import seaborn as sns\n",
        "from scipy import stats\n",
        "from sklearn.model_selection import train_test_split\n",
        "from sklearn.preprocessing import StandardScaler\n",
        "from sklearn.metrics import accuracy_score, classification_report, confusion_matrix\n",
        "from sklearn.ensemble import RandomForestClassifier\n",
        "import xgboost as xgb\n",
        "from sklearn.utils.class_weight import compute_sample_weight\n",
        "\n",
        "# --- 1.2 SETTINGS ---\n",
        "warnings.filterwarnings('ignore')\n",
        "sns.set_style(\"whitegrid\")\n",
        "\n",
        "# --- 1.3 DATA LOADING ---\n",
        "print(\"Fetching dataset from UCI repository\")\n",
        "cardiotocography = fetch_ucirepo(id=193)\n",
        "X_raw = cardiotocography.data.features\n",
        "y_raw = cardiotocography.data.targets\n",
        "print(\"Dataset loaded successfully!\")\n",
        "\n",
        "# Combine into a single DataFrame for easier handling\n",
        "df = pd.concat([X_raw, y_raw], axis=1)\n",
        "df.rename(columns={'NSP': 'fetal_health'}, inplace=True)\n",
        "df['fetal_health'] = df['fetal_health'].astype(int)"
      ]
    },
    {
      "cell_type": "code",
      "execution_count": null,
      "metadata": {
        "colab": {
          "base_uri": "https://localhost:8080/",
          "height": 1000
        },
        "id": "H-oTABEjpZp9",
        "outputId": "0e8893e7-f2bf-4f9b-b98d-43d94c4d8e1a"
      },
      "outputs": [],
      "source": [
        "# 2. Explanatory Data Analysis\n",
        "\n",
        "print(\"\\n Starting Exploratory Data Analysis\")\n",
        "\n",
        "# For EDA, we'll work with a combined DataFrame for easier analysis\n",
        "df_eda = pd.concat([X_raw, y_raw], axis=1)\n",
        "df_eda.rename(columns={'NSP': 'fetal_health'}, inplace=True)\n",
        "df_eda['fetal_health'] = df_eda['fetal_health'].astype(int)\n",
        "\n",
        "# Histogram\n",
        "print(\"\\nPlotting feature distributions\")\n",
        "# We will use the same key features for consistency\n",
        "# First, let's define them robustly\n",
        "feature_columns = X_raw.columns\n",
        "key_features = [\n",
        "    feature_columns[0],  # 'baseline value'\n",
        "    feature_columns[1],  # 'accelerations'\n",
        "    feature_columns[6],  # 'prolongued decelerations'\n",
        "    feature_columns[7]   # 'abnormal short term variability'\n",
        "]\n",
        "\n",
        "df_eda[key_features].hist(bins=20, figsize=(16, 10), color='skyblue', edgecolor='black')\n",
        "plt.suptitle(\"Distribution of Key Features\", fontsize=16)\n",
        "plt.tight_layout(rect=[0, 0, 1, 0.96])\n",
        "plt.show()\n",
        "\n",
        "# BOX PLOT\n",
        "print(\"\\nComparing key features across health classes\")\n",
        "\n",
        "fig, axes = plt.subplots(2, 2, figsize=(16, 12))\n",
        "fig.suptitle('Comparison of Key Features Across Fetal Health Classes', fontsize=16)\n",
        "axes = axes.flatten()\n",
        "\n",
        "for i, feature in enumerate(key_features):\n",
        "    sns.boxplot(x='fetal_health', y=feature, data=df_eda, ax=axes[i], palette='pastel')\n",
        "    axes[i].set_title(feature.replace('_', ' ').title()) # Clean up title\n",
        "    axes[i].set_xticklabels(['Normal', 'Suspect', 'Pathological'])\n",
        "    axes[i].set_xlabel('')\n",
        "    axes[i].set_ylabel('')\n",
        "\n",
        "plt.tight_layout(rect=[0, 0, 1, 0.96])\n",
        "plt.show()\n",
        "\n",
        "# 3. HEAT MAP\n",
        "print(\"\\nVisualizing feature correlations...\")\n",
        "plt.figure(figsize=(20, 15))\n",
        "corr_matrix = df_eda.corr()\n",
        "sns.heatmap(corr_matrix, annot=True, cmap='coolwarm', fmt=\".2f\")\n",
        "plt.title('Correlation Matrix of All Features', fontsize=16)\n",
        "plt.show()"
      ]
    },
    {
      "cell_type": "code",
      "execution_count": null,
      "metadata": {
        "colab": {
          "base_uri": "https://localhost:8080/"
        },
        "id": "2EU2sfM5paJZ",
        "outputId": "60eb3e85-9c56-4349-d559-d9a3b0d462d1"
      },
      "outputs": [],
      "source": [
        "#3. DATA PREPROCESSING\n",
        "\n",
        "print(\"\\n Preparing Data for Modeling\")\n",
        "\n",
        "# OUTLIER REMOVAL USING Z-SCORE\n",
        "X_features = df.drop('fetal_health', axis=1)\n",
        "y_target = df['fetal_health']\n",
        "\n",
        "\n",
        "z_scores = np.abs(stats.zscore(X_features))\n",
        "threshold = 3\n",
        "non_outlier_indices = (z_scores < threshold).all(axis=1)\n",
        "df_cleaned = df[non_outlier_indices]\n",
        "\n",
        "print(f\"Original number of samples: {len(df)}\")\n",
        "print(f\"Number of samples after removing outliers: {len(df_cleaned)}\")\n",
        "print(f\"Number of outliers removed: {len(df) - len(df_cleaned)}\")\n",
        "\n",
        "# Label Adjustment and Data Splitting\n",
        "X = df_cleaned.drop('fetal_health', axis=1)\n",
        "y = df_cleaned['fetal_health']\n",
        "y = y - 1\n",
        "\n",
        "X_train, X_test, y_train, y_test = train_test_split(X, y, test_size=0.2, random_state=42, stratify=y)\n",
        "\n",
        "# Feature Scaling\n",
        "scaler = StandardScaler()\n",
        "X_train_scaled = scaler.fit_transform(X_train)\n",
        "X_test_scaled = scaler.transform(X_test)\n",
        "print(\"Data has been successfully cleaned, split, and scaled.\")\n",
        "\n"
      ]
    },
    {
      "cell_type": "code",
      "execution_count": null,
      "metadata": {
        "colab": {
          "base_uri": "https://localhost:8080/"
        },
        "id": "6WgvzrClpakf",
        "outputId": "5f97b50f-8dab-4ca5-8230-fa02b2e1a3fc"
      },
      "outputs": [],
      "source": [
        "# Train XGBoost\n",
        "print(\"Training XGBoost model\")\n",
        "sample_weights = compute_sample_weight(class_weight='balanced', y=y_train)\n",
        "xgb_model = xgb.XGBClassifier(random_state=42, use_label_encoder=False, eval_metric='mlogloss')\n",
        "xgb_model.fit(X_train_scaled, y_train, sample_weight=sample_weights)\n",
        "\n",
        "print(\"Model trained successfully.\")"
      ]
    },
    {
      "cell_type": "code",
      "execution_count": null,
      "metadata": {
        "colab": {
          "base_uri": "https://localhost:8080/",
          "height": 947
        },
        "id": "1P93au4csOHC",
        "outputId": "10db43f9-d352-4e3a-c438-ce3d40734aca"
      },
      "outputs": [],
      "source": [
        "# MODEL VALIDATION\n",
        "\n",
        "print(\"\\n Model Reports \")\n",
        "\n",
        "\n",
        "y_pred_xgb = xgb_model.predict(X_test_scaled)\n",
        "\n",
        "#  plotting the confusion matrix\n",
        "def plot_confusion_matrix(y_true, y_pred, model_name):\n",
        "    \"\"\"Generates and displays a confusion matrix plot.\"\"\"\n",
        "    cm = confusion_matrix(y_true, y_pred)\n",
        "    plt.figure(figsize=(8, 6))\n",
        "    sns.heatmap(cm, annot=True, fmt='d', cmap='Blues',\n",
        "                xticklabels=['Normal (1)', 'Suspect (2)', 'Pathological (3)'],\n",
        "                yticklabels=['Normal (1)', 'Suspect (2)', 'Pathological (3)'])\n",
        "    plt.title(f'Confusion Matrix for {model_name}')\n",
        "    plt.ylabel('Actual')\n",
        "    plt.xlabel('Predicted')\n",
        "    plt.show()\n",
        "\n",
        "\n",
        "print(\"\\n\\n Report for: XGBoost \")\n",
        "\n",
        "# 1. Multi-class Accuracy\n",
        "print(f\"\\n1. Multi-class Accuracy: {accuracy_score(y_test, y_pred_xgb):.4f}\")\n",
        "\n",
        "# 2. Per-class Precision, Recall, F1-Score\n",
        "print(\"\\n2. Per-class Report (Precision, Recall, F1-Score):\")\n",
        "print(classification_report(y_test, y_pred_xgb, target_names=['Normal (1)', 'Suspect (2)', 'Pathological (3)']))\n",
        "\n",
        "# 3. Confusion Matrix\n",
        "print(\"\\n3. Confusion Matrix:\")\n",
        "plot_confusion_matrix(y_test, y_pred_xgb, 'XGBoost')\n"
      ]
    }
  ],
  "metadata": {
    "colab": {
      "provenance": []
    },
    "kernelspec": {
      "display_name": "Python 3",
      "name": "python3"
    },
    "language_info": {
      "codemirror_mode": {
        "name": "ipython",
        "version": 3
      },
      "file_extension": ".py",
      "mimetype": "text/x-python",
      "name": "python",
      "nbconvert_exporter": "python",
      "pygments_lexer": "ipython3",
      "version": "3.13.0"
    }
  },
  "nbformat": 4,
  "nbformat_minor": 0
}
